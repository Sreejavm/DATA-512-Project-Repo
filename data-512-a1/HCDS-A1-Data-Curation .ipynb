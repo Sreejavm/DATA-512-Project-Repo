{
 "cells": [
  {
   "cell_type": "code",
   "execution_count": 267,
   "metadata": {},
   "outputs": [],
   "source": [
    "#Importing the required libraries:\n",
    "\n",
    "import json\n",
    "import requests\n",
    "import csv"
   ]
  },
  {
   "cell_type": "markdown",
   "metadata": {},
   "source": [
    "# Step 1: Data Gathering\n",
    "\n",
    "Set API endpoints for the Pagecounts API and the Pageviews API\n",
    "\n",
    "Set Parameters to make the 'Pagecounts' and 'Pageviews' API calls\n",
    "\n",
    "Make Pagecount and Pageview API calls to get mobile, desktop and both Wikipedia traffic data. The output is json file which is saved on disk.\n"
   ]
  },
  {
   "cell_type": "code",
   "execution_count": 268,
   "metadata": {},
   "outputs": [],
   "source": [
    "# Declare constants\n",
    "\n",
    "# Declare all endpoints\n",
    "endpoint_legacy = 'https://wikimedia.org/api/rest_v1/metrics/legacy/pagecounts/aggregate/{project}/{access-site}/{granularity}/{start}/{end}'\n",
    "endpoint_pageviews = 'https://wikimedia.org/api/rest_v1/metrics/pageviews/aggregate/{project}/{access}/{agent}/{granularity}/{start}/{end}'\n",
    "\n",
    "# Parameter to call legacy Pagecounts API:\n",
    "params_legacy_pagecounts={\"project\" : \"en.wikipedia.org\",\n",
    "                         \"access-site\" : \"desktop-site\",\n",
    "                         \"granularity\" : \"monthly\",\n",
    "                         \"start\" : \"2008010100\",\n",
    "                         \"end\" : \"2016080100\"}\n",
    "params_legacy_pagecounts={\"project\" : \"en.wikipedia.org\",\n",
    "                         \"access-site\" : \"mobile-site\",\n",
    "                        \"granularity\" : \"monthly\",\n",
    "                        \"start\" : \"2008010100\",\n",
    "                        \"end\" : \"2016080100\"}\n",
    "\n",
    "#Parameter to call Pageviews API:\n",
    "params_pageviews={\"project\" : \"en.wikipedia.org\",\n",
    "                  \"access\" : \"desktop\",\n",
    "                  \"agent\" : \"user\",\n",
    "                  \"granularity\" : \"monthly\",\n",
    "                  \"start\" : \"2015070100\",\n",
    "                  \"end\" : \"2020080100\"}\n",
    "\n",
    "params_pageviews={\"project\" : \"en.wikipedia.org\",\n",
    "                 \"access\" : \"mobile-app\",\n",
    "                 \"agent\" : \"user\",\n",
    "                 \"granularity\" : \"monthly\",\n",
    "                 \"start\" : \"2015070100\",\n",
    "                 \"end\" : \"2020080100\"}\n",
    "\n",
    "params_pageviews={\"project\" : \"en.wikipedia.org\",\n",
    "                  \"access\" : \"mobile-web\",\n",
    "                  \"agent\" : \"user\",\n",
    "                  \"granularity\" : \"monthly\",\n",
    "                  \"start\" : \"2015070100\",\n",
    "                  \"end\" : \"2020080100\"}\n",
    "\n",
    "#headers for the API calls:\n",
    "headers = {'user-Agent': 'https://github.com/sreejavm',\n",
    "          'From' : 'sreejavm@uw.edu'}"
   ]
  },
  {
   "cell_type": "code",
   "execution_count": 269,
   "metadata": {},
   "outputs": [],
   "source": [
    "#Function to fetch the data :\n",
    "def api_call(endpoint,parameters):\n",
    "    call=requests.get(endpoint.format(**parameters), headers=headers)\n",
    "    response = call.json()\n",
    "    \n",
    "    return response"
   ]
  },
  {
   "cell_type": "code",
   "execution_count": 270,
   "metadata": {},
   "outputs": [],
   "source": [
    "#collecting data for legacy_pagecounts and saving it in JSON file format:\n",
    "legacy_pagecounts_desktop_site=api_call(endpoint_legacy,params_legacy_pagecounts)\n",
    "with open('pagecounts_desktop-site_200801-201607.json', 'w') as json_file:\n",
    "       json.dump(legacy_pagecounts_desktop_site, json_file)\n",
    "    \n",
    "leagcy_pagecounts_mobile_site=api_call(endpoint_legacy,params_legacy_pagecounts)\n",
    "with open('pagecounts_mobile-site_200801-201607.json', 'w') as json_file:\n",
    "     json.dump(leagcy_pagecounts_mobile_site, json_file) \n",
    "\n",
    "#collecting data for the pageviews and saving it in JSON file format:\n",
    "\n",
    "pageviews_desktop=api_call(endpoint_pageviews,params_pageviews)\n",
    "with open('pageviews_desktop_201507-202008.json', 'w') as json_file:\n",
    "     json.dump(pageviews_desktop, json_file)\n",
    "    \n",
    "pageviews_mobile_app=api_call(endpoint_pageviews,params_pageviews)\n",
    "with open('pageviews_mobile-app_201507-202008.json', 'w') as json_file:\n",
    "     json.dump(pageviews_mobile_app, json_file)\n",
    "    \n",
    "pageviews_mobile_web=api_call(endpoint_pageviews,params_pageviews)\n",
    "with open('pageviews_mobile-web_201507-202008.json', 'w') as json_file:\n",
    "     json.dump(pageviews_mobile_web, json_file)"
   ]
  },
  {
   "cell_type": "markdown",
   "metadata": {},
   "source": [
    "# Step 2: Data Processing\n",
    "\n",
    "Load data from json response into the respective list for time, mobile, desktop and all site views/counts\n",
    "\n",
    "Write the lists in a single dataframe for pagecount and pageviews\n",
    "\n",
    "Merge the pagecount and pageviews dataframe into a single dataframe\n",
    "\n",
    "Write the dataframe in a csv file and save it to disk"
   ]
  },
  {
   "cell_type": "markdown",
   "metadata": {},
   "source": [
    "## 1. Combined mobile-web and mobile-app TotalViewsCount"
   ]
  },
  {
   "cell_type": "code",
   "execution_count": 271,
   "metadata": {},
   "outputs": [],
   "source": [
    "# Combined_data_mobile -> stored timestamp as key and totalViewsCount as value\n",
    "combined_data = {}\n",
    "for entry in pageviews_mobile_web['items']:\n",
    "    timestamp = entry['timestamp'][:6]\n",
    "    entry['access'] = 'pageview_mobile_views'\n",
    "    combined_data[timestamp] = {entry['access'] : entry['views']}\n",
    "    "
   ]
  },
  {
   "cell_type": "code",
   "execution_count": 272,
   "metadata": {},
   "outputs": [],
   "source": [
    "for entry in pageviews_mobile_app['items']:\n",
    "    timestamp = entry['timestamp'][:6]\n",
    "    entry['access'] = 'pageview_mobile_views'\n",
    "    if timestamp in combined_data:\n",
    "        combined_data[timestamp][entry['access']] = entry['views'] + combined_data[timestamp][entry['access']]\n",
    "    else:\n",
    "        entry['access'] = 'mobile-combined'\n",
    "        combined_data[timestamp][entry['access']] = entry['views']\n",
    "        "
   ]
  },
  {
   "cell_type": "code",
   "execution_count": 273,
   "metadata": {},
   "outputs": [],
   "source": [
    "for entry in pageviews_desktop['items']:\n",
    "    timestamp = entry['timestamp'][:6]\n",
    "    combined_data[timestamp]['pageview_desktop_views'] = entry['views']"
   ]
  },
  {
   "cell_type": "code",
   "execution_count": 274,
   "metadata": {},
   "outputs": [],
   "source": [
    "for entry in legacy_pagecounts_desktop_site['items']:\n",
    "    timestamp = entry['timestamp'][:6]\n",
    "    combined_data[timestamp] = {'pagecount_desktop_views' : entry['count']}"
   ]
  },
  {
   "cell_type": "code",
   "execution_count": 275,
   "metadata": {},
   "outputs": [],
   "source": [
    "for entry in leagcy_pagecounts_mobile_site['items']:\n",
    "    timestamp = entry['timestamp'][:6]\n",
    "    if timestamp not in timestamp:\n",
    "        combined_data[timestamp] = {}\n",
    "    combined_data[timestamp]['pagecount_mobile_views'] = entry['count']"
   ]
  },
  {
   "cell_type": "code",
   "execution_count": 306,
   "metadata": {},
   "outputs": [],
   "source": [
    "# combined_data"
   ]
  },
  {
   "cell_type": "code",
   "execution_count": 307,
   "metadata": {},
   "outputs": [],
   "source": [
    "csv_data_with_header = list();\n",
    "csv_data_with_header = [['year', 'month', 'pagecount_all_views', 'pagecount_desktop_views', 'pagecount_mobile_views', 'pageview_all_views', 'pageview_desktop_views', 'pageview_mobile_views']]"
   ]
  },
  {
   "cell_type": "code",
   "execution_count": 322,
   "metadata": {},
   "outputs": [],
   "source": [
    "for timestamp, data in combined_data.items():\n",
    "    row = list()\n",
    "    row.append(timestamp[:4])\n",
    "    row.append(timestamp[4:6])\n",
    "    \n",
    "    row.append(data['pagecount_desktop_views'] if 'pagecount_desktop_views' in data else 0 \n",
    "               + data['pagecount_mobile_views']  if 'pagecount_mobile_views' in data else 0)\n",
    "    row.append(data['pagecount_desktop_views'] if 'pagecount_desktop_views' in data else 0)\n",
    "    row.append(data['pagecount_mobile_views'] if 'pagecount_mobile_views' in data else 0)\n",
    "    \n",
    "    row.append(data['pageview_desktop_views'] if 'pageview_desktop_views' in data else 0 \n",
    "               + data['pageview_mobile_views'] if 'pageview_mobile_views' in data else 0 )\n",
    "    row.append(data['pageview_desktop_views'] if 'pageview_desktop_views' in data else 0)\n",
    "    row.append(data['pageview_mobile_views'] if 'pageview_mobile_views' in data else 0)\n",
    "#     print(data['pageview_mobile_views'] if 'pageview_mobile_views' in data else 0)\n",
    "#     print(row[5], \":\", row[6], \":\", row[7])\n",
    "    csv_data_with_header.append(row)\n",
    "    "
   ]
  },
  {
   "cell_type": "code",
   "execution_count": 323,
   "metadata": {},
   "outputs": [],
   "source": [
    "with open('en-wikipedia_traffic_200712-202008.csv', 'w', newline='') as csv_file:\n",
    "    wr = csv.writer(csv_file, quoting=csv.QUOTE_ALL)\n",
    "    wr.writerows(csv_data_with_header)"
   ]
  },
  {
   "cell_type": "markdown",
   "metadata": {},
   "source": [
    "# Step 3: Analyze the data\n",
    "\n",
    "Create a plot to visualize Wikipedia traffic data Visualize Wikipedia traffic with 3 metrics: mobile traffic(for counts and views), desktop traffic(for counts and views) and all traffic (mobile + desktop)\n",
    "\n",
    "Save the visualization as an image file\n"
   ]
  },
  {
   "cell_type": "code",
   "execution_count": 324,
   "metadata": {},
   "outputs": [],
   "source": [
    "import pandas as pd\n",
    "from matplotlib import pyplot as plt"
   ]
  },
  {
   "cell_type": "code",
   "execution_count": 325,
   "metadata": {},
   "outputs": [
    {
     "data": {
      "text/html": [
       "<div>\n",
       "<style scoped>\n",
       "    .dataframe tbody tr th:only-of-type {\n",
       "        vertical-align: middle;\n",
       "    }\n",
       "\n",
       "    .dataframe tbody tr th {\n",
       "        vertical-align: top;\n",
       "    }\n",
       "\n",
       "    .dataframe thead th {\n",
       "        text-align: right;\n",
       "    }\n",
       "</style>\n",
       "<table border=\"1\" class=\"dataframe\">\n",
       "  <thead>\n",
       "    <tr style=\"text-align: right;\">\n",
       "      <th></th>\n",
       "      <th>year</th>\n",
       "      <th>month</th>\n",
       "      <th>pagecount_all_views</th>\n",
       "      <th>pagecount_desktop_views</th>\n",
       "      <th>pagecount_mobile_views</th>\n",
       "      <th>pageview_all_views</th>\n",
       "      <th>pageview_desktop_views</th>\n",
       "      <th>pageview_mobile_views</th>\n",
       "      <th>date</th>\n",
       "    </tr>\n",
       "  </thead>\n",
       "  <tbody>\n",
       "    <tr>\n",
       "      <th>61</th>\n",
       "      <td>2014</td>\n",
       "      <td>10</td>\n",
       "      <td>3091546685</td>\n",
       "      <td>3091546685</td>\n",
       "      <td>3091546685</td>\n",
       "      <td>0</td>\n",
       "      <td>0</td>\n",
       "      <td>0</td>\n",
       "      <td>2014-10-01</td>\n",
       "    </tr>\n",
       "    <tr>\n",
       "      <th>131</th>\n",
       "      <td>2014</td>\n",
       "      <td>10</td>\n",
       "      <td>3091546685</td>\n",
       "      <td>3091546685</td>\n",
       "      <td>3091546685</td>\n",
       "      <td>0</td>\n",
       "      <td>0</td>\n",
       "      <td>0</td>\n",
       "      <td>2014-10-01</td>\n",
       "    </tr>\n",
       "    <tr>\n",
       "      <th>201</th>\n",
       "      <td>2014</td>\n",
       "      <td>10</td>\n",
       "      <td>3091546685</td>\n",
       "      <td>3091546685</td>\n",
       "      <td>3091546685</td>\n",
       "      <td>0</td>\n",
       "      <td>0</td>\n",
       "      <td>0</td>\n",
       "      <td>2014-10-01</td>\n",
       "    </tr>\n",
       "    <tr>\n",
       "      <th>132</th>\n",
       "      <td>2014</td>\n",
       "      <td>11</td>\n",
       "      <td>3027489668</td>\n",
       "      <td>3027489668</td>\n",
       "      <td>3027489668</td>\n",
       "      <td>0</td>\n",
       "      <td>0</td>\n",
       "      <td>0</td>\n",
       "      <td>2014-11-01</td>\n",
       "    </tr>\n",
       "    <tr>\n",
       "      <th>202</th>\n",
       "      <td>2014</td>\n",
       "      <td>11</td>\n",
       "      <td>3027489668</td>\n",
       "      <td>3027489668</td>\n",
       "      <td>3027489668</td>\n",
       "      <td>0</td>\n",
       "      <td>0</td>\n",
       "      <td>0</td>\n",
       "      <td>2014-11-01</td>\n",
       "    </tr>\n",
       "  </tbody>\n",
       "</table>\n",
       "</div>"
      ],
      "text/plain": [
       "     year month  pagecount_all_views  pagecount_desktop_views  \\\n",
       "61   2014    10           3091546685               3091546685   \n",
       "131  2014    10           3091546685               3091546685   \n",
       "201  2014    10           3091546685               3091546685   \n",
       "132  2014    11           3027489668               3027489668   \n",
       "202  2014    11           3027489668               3027489668   \n",
       "\n",
       "     pagecount_mobile_views  pageview_all_views  pageview_desktop_views  \\\n",
       "61               3091546685                   0                       0   \n",
       "131              3091546685                   0                       0   \n",
       "201              3091546685                   0                       0   \n",
       "132              3027489668                   0                       0   \n",
       "202              3027489668                   0                       0   \n",
       "\n",
       "     pageview_mobile_views       date  \n",
       "61                       0 2014-10-01  \n",
       "131                      0 2014-10-01  \n",
       "201                      0 2014-10-01  \n",
       "132                      0 2014-11-01  \n",
       "202                      0 2014-11-01  "
      ]
     },
     "execution_count": 325,
     "metadata": {},
     "output_type": "execute_result"
    }
   ],
   "source": [
    "df = pd.DataFrame(csv_data_with_header[1:])\n",
    "df.columns = csv_data_with_header[0]\n",
    "df['date'] = pd.to_datetime(df['year'].map(str)+ '-' + df['month'].map(str), format='%Y-%m')\n",
    "df = df.sort_values(by=\"date\")\n",
    "df.head()\n"
   ]
  },
  {
   "cell_type": "code",
   "execution_count": 329,
   "metadata": {},
   "outputs": [
    {
     "data": {
      "text/plain": [
       "[<matplotlib.lines.Line2D at 0x7f04dfaf83d0>]"
      ]
     },
     "execution_count": 329,
     "metadata": {},
     "output_type": "execute_result"
    },
    {
     "data": {
      "image/png": "[encoded data removed]",
      "text/plain": [
       "<Figure size 1080x432 with 1 Axes>"
      ]
     },
     "metadata": {
      "needs_background": "light"
     },
     "output_type": "display_data"
    }
   ],
   "source": [
    "fig, ax = plt.subplots(figsize=(15,6))\n",
    "n = int(len(df)/2)\n",
    "\n",
    "ax.plot(df[['date']], df[['pagecount_desktop_views']]/1000000, color='blue', linewidth=2, label='pagecount_desktop_views',linestyle='dashed')\n",
    "ax.plot(df[['date']], df[['pagecount_mobile_views']]/1000000, color='red', linewidth=2, label='pagecount_mobile_views',linestyle='dashed')\n",
    "ax.plot(df[['date']], df[['pageview_mobile_views']]/1000000, color='red', linewidth=2,label='pageview_mobile_views')\n",
    "ax.plot(df[['date']], df[['pageview_desktop_views']]/1000000, color='blue', linewidth=2,label='pageview_desktop_views')\n",
    "ax.plot(df[['date']], df[['pageview_all_views']]/1000000, color='green', linewidth=2,label='pageview_all_views')\n",
    "ax.plot(df[['date']], df[['pagecount_all_views']]/1000000, color='green', linewidth=2,label='pagecount_all_views', linestyle='dashed')\n"
   ]
  },
  {
   "cell_type": "code",
   "execution_count": null,
   "metadata": {
    "jupyter": {
     "source_hidden": true
    }
   },
   "outputs": [],
   "source": []
  }
 ],
 "metadata": {
  "kernelspec": {
   "display_name": "Python 3",
   "language": "python",
   "name": "python3"
  },
  "language_info": {
   "codemirror_mode": {
    "name": "ipython",
    "version": 3
   },
   "file_extension": ".py",
   "mimetype": "text/x-python",
   "name": "python",
   "nbconvert_exporter": "python",
   "pygments_lexer": "ipython3",
   "version": "3.7.4"
  }
 },
 "nbformat": 4,
 "nbformat_minor": 4
}
